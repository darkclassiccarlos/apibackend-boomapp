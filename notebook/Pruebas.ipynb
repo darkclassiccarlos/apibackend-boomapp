{
 "cells": [
  {
   "cell_type": "code",
   "execution_count": 2,
   "metadata": {},
   "outputs": [
    {
     "name": "stdout",
     "output_type": "stream",
     "text": [
      "b'$2b$12$zrfEtEneOqbUWnxREQ8MRO'\n",
      "b'$2b$12$zrfEtEneOqbUWnxREQ8MROnXI3DgJ.gvEvc6HRRU641D36g34M/PS'\n"
     ]
    }
   ],
   "source": [
    "# import bcrypt\n",
    "\n",
    "# passwd = b's$cret12'\n",
    "\n",
    "# salt = bcrypt.gensalt()\n",
    "# hashed = bcrypt.hashpw(passwd, salt)\n",
    "\n",
    "# print(salt)\n",
    "# print(hashed)"
   ]
  },
  {
   "cell_type": "code",
   "execution_count": null,
   "metadata": {},
   "outputs": [],
   "source": [
    "import os\n",
    "from dotenv import load_dotenv\n",
    "from pathlib import Path\n",
    "\n",
    "from MySQLdb import _mysql\n",
    "\n",
    "dotenv_path = Path('./config/dev.env')\n",
    "load_dotenv(dotenv_path=dotenv_path)\n",
    "\n",
    "HOST = os.getenv(\"HOST\")\n",
    "DATABASE = os.getenv(\"DATABASE\")\n",
    "USERNAME = os.getenv(\"USERNAME\")\n",
    "PASSWORD = os.getenv(\"PASSWORD\")\n",
    "SSL_CERT = os.getenv(\"SSL_CERT\")"
   ]
  },
  {
   "cell_type": "code",
   "execution_count": null,
   "metadata": {},
   "outputs": [],
   "source": [
    "def get_connection():\n",
    "  return _mysql.connect(\n",
    "          host= HOST,\n",
    "          user= USERNAME,\n",
    "          password= PASSWORD,\n",
    "          database= DATABASE,\n",
    "          ssl      = {\n",
    "            \"ca\": SSL_CERT\n",
    "          }\n",
    "        )\n",
    "connection = get_connection()"
   ]
  },
  {
   "cell_type": "code",
   "execution_count": 7,
   "metadata": {},
   "outputs": [],
   "source": [
    "from PIL import Image\n",
    "import io\n",
    "import os\n"
   ]
  },
  {
   "cell_type": "code",
   "execution_count": 9,
   "id": "c2c27dc5",
   "metadata": {},
   "outputs": [],
   "source": [
    "image = Image.open('image.jpeg')"
   ]
  },
  {
   "cell_type": "code",
   "execution_count": 8,
   "id": "35f200b0",
   "metadata": {},
   "outputs": [],
   "source": [
    "buffer = io.BytesIO()"
   ]
  },
  {
   "cell_type": "code",
   "execution_count": 10,
   "id": "d53bad49",
   "metadata": {},
   "outputs": [],
   "source": [
    "width, height = image.size\n",
    "new_size = (width//2, height//2)\n",
    "resized_image = image.resize(new_size)"
   ]
  },
  {
   "cell_type": "code",
   "execution_count": 19,
   "id": "f2faf103",
   "metadata": {},
   "outputs": [
    {
     "ename": "TypeError",
     "evalue": "expected str, bytes or os.PathLike object, not BytesIO",
     "output_type": "error",
     "traceback": [
      "\u001b[0;31m---------------------------------------------------------------------------\u001b[0m",
      "\u001b[0;31mTypeError\u001b[0m                                 Traceback (most recent call last)",
      "\u001b[1;32m/workspaces/apibackend-boomapp/notebook/Pruebas.ipynb Celda 8\u001b[0m line \u001b[0;36m3\n\u001b[1;32m      <a href='vscode-notebook-cell://dev-container%2B7b22686f737450617468223a22633a5c5c55736572735c5c65647561725c5c4f6e6544726976655c5c446f63756d656e746f735c5c706572736f6e616c5c5c6170696261636b656e642d626f6f6d617070222c22636f6e66696746696c65223a7b22246d6964223a312c22667350617468223a22633a5c5c55736572735c5c65647561725c5c4f6e6544726976655c5c446f63756d656e746f735c5c706572736f6e616c5c5c6170696261636b656e642d626f6f6d6170705c5c2e646576636f6e7461696e65725c5c646576636f6e7461696e65722e6a736f6e222c225f736570223a312c2265787465726e616c223a2266696c653a2f2f2f632533412f55736572732f65647561722f4f6e6544726976652f446f63756d656e746f732f706572736f6e616c2f6170696261636b656e642d626f6f6d6170702f2e646576636f6e7461696e65722f646576636f6e7461696e65722e6a736f6e222c2270617468223a222f633a2f55736572732f65647561722f4f6e6544726976652f446f63756d656e746f732f706572736f6e616c2f6170696261636b656e642d626f6f6d6170702f2e646576636f6e7461696e65722f646576636f6e7461696e65722e6a736f6e222c22736368656d65223a2266696c65227d7d/workspaces/apibackend-boomapp/notebook/Pruebas.ipynb#X15sdnNjb2RlLXJlbW90ZQ%3D%3D?line=0'>1</a>\u001b[0m \u001b[39m# resized_image.save('compressed_image.jpeg', optimize=True, quality=50)\u001b[39;00m\n\u001b[0;32m----> <a href='vscode-notebook-cell://dev-container%2B7b22686f737450617468223a22633a5c5c55736572735c5c65647561725c5c4f6e6544726976655c5c446f63756d656e746f735c5c706572736f6e616c5c5c6170696261636b656e642d626f6f6d617070222c22636f6e66696746696c65223a7b22246d6964223a312c22667350617468223a22633a5c5c55736572735c5c65647561725c5c4f6e6544726976655c5c446f63756d656e746f735c5c706572736f6e616c5c5c6170696261636b656e642d626f6f6d6170705c5c2e646576636f6e7461696e65725c5c646576636f6e7461696e65722e6a736f6e222c225f736570223a312c2265787465726e616c223a2266696c653a2f2f2f632533412f55736572732f65647561722f4f6e6544726976652f446f63756d656e746f732f706572736f6e616c2f6170696261636b656e642d626f6f6d6170702f2e646576636f6e7461696e65722f646576636f6e7461696e65722e6a736f6e222c2270617468223a222f633a2f55736572732f65647561722f4f6e6544726976652f446f63756d656e746f732f706572736f6e616c2f6170696261636b656e642d626f6f6d6170702f2e646576636f6e7461696e65722f646576636f6e7461696e65722e6a736f6e222c22736368656d65223a2266696c65227d7d/workspaces/apibackend-boomapp/notebook/Pruebas.ipynb#X15sdnNjb2RlLXJlbW90ZQ%3D%3D?line=2'>3</a>\u001b[0m \u001b[39mwith\u001b[39;00m \u001b[39mopen\u001b[39;49m(buffer, \u001b[39m'\u001b[39;49m\u001b[39mw+\u001b[39;49m\u001b[39m'\u001b[39;49m) \u001b[39mas\u001b[39;00m file:\n\u001b[1;32m      <a href='vscode-notebook-cell://dev-container%2B7b22686f737450617468223a22633a5c5c55736572735c5c65647561725c5c4f6e6544726976655c5c446f63756d656e746f735c5c706572736f6e616c5c5c6170696261636b656e642d626f6f6d617070222c22636f6e66696746696c65223a7b22246d6964223a312c22667350617468223a22633a5c5c55736572735c5c65647561725c5c4f6e6544726976655c5c446f63756d656e746f735c5c706572736f6e616c5c5c6170696261636b656e642d626f6f6d6170705c5c2e646576636f6e7461696e65725c5c646576636f6e7461696e65722e6a736f6e222c225f736570223a312c2265787465726e616c223a2266696c653a2f2f2f632533412f55736572732f65647561722f4f6e6544726976652f446f63756d656e746f732f706572736f6e616c2f6170696261636b656e642d626f6f6d6170702f2e646576636f6e7461696e65722f646576636f6e7461696e65722e6a736f6e222c2270617468223a222f633a2f55736572732f65647561722f4f6e6544726976652f446f63756d656e746f732f706572736f6e616c2f6170696261636b656e642d626f6f6d6170702f2e646576636f6e7461696e65722f646576636f6e7461696e65722e6a736f6e222c22736368656d65223a2266696c65227d7d/workspaces/apibackend-boomapp/notebook/Pruebas.ipynb#X15sdnNjb2RlLXJlbW90ZQ%3D%3D?line=3'>4</a>\u001b[0m     file\u001b[39m.\u001b[39mflush()\n\u001b[1;32m      <a href='vscode-notebook-cell://dev-container%2B7b22686f737450617468223a22633a5c5c55736572735c5c65647561725c5c4f6e6544726976655c5c446f63756d656e746f735c5c706572736f6e616c5c5c6170696261636b656e642d626f6f6d617070222c22636f6e66696746696c65223a7b22246d6964223a312c22667350617468223a22633a5c5c55736572735c5c65647561725c5c4f6e6544726976655c5c446f63756d656e746f735c5c706572736f6e616c5c5c6170696261636b656e642d626f6f6d6170705c5c2e646576636f6e7461696e65725c5c646576636f6e7461696e65722e6a736f6e222c225f736570223a312c2265787465726e616c223a2266696c653a2f2f2f632533412f55736572732f65647561722f4f6e6544726976652f446f63756d656e746f732f706572736f6e616c2f6170696261636b656e642d626f6f6d6170702f2e646576636f6e7461696e65722f646576636f6e7461696e65722e6a736f6e222c2270617468223a222f633a2f55736572732f65647561722f4f6e6544726976652f446f63756d656e746f732f706572736f6e616c2f6170696261636b656e642d626f6f6d6170702f2e646576636f6e7461696e65722f646576636f6e7461696e65722e6a736f6e222c22736368656d65223a2266696c65227d7d/workspaces/apibackend-boomapp/notebook/Pruebas.ipynb#X15sdnNjb2RlLXJlbW90ZQ%3D%3D?line=4'>5</a>\u001b[0m     \u001b[39m# resized_image.save(file, optimize=True, quality=50)\u001b[39;00m\n",
      "File \u001b[0;32m~/.local/lib/python3.10/site-packages/IPython/core/interactiveshell.py:286\u001b[0m, in \u001b[0;36m_modified_open\u001b[0;34m(file, *args, **kwargs)\u001b[0m\n\u001b[1;32m    279\u001b[0m \u001b[39mif\u001b[39;00m file \u001b[39min\u001b[39;00m {\u001b[39m0\u001b[39m, \u001b[39m1\u001b[39m, \u001b[39m2\u001b[39m}:\n\u001b[1;32m    280\u001b[0m     \u001b[39mraise\u001b[39;00m \u001b[39mValueError\u001b[39;00m(\n\u001b[1;32m    281\u001b[0m         \u001b[39mf\u001b[39m\u001b[39m\"\u001b[39m\u001b[39mIPython won\u001b[39m\u001b[39m'\u001b[39m\u001b[39mt let you open fd=\u001b[39m\u001b[39m{\u001b[39;00mfile\u001b[39m}\u001b[39;00m\u001b[39m by default \u001b[39m\u001b[39m\"\u001b[39m\n\u001b[1;32m    282\u001b[0m         \u001b[39m\"\u001b[39m\u001b[39mas it is likely to crash IPython. If you know what you are doing, \u001b[39m\u001b[39m\"\u001b[39m\n\u001b[1;32m    283\u001b[0m         \u001b[39m\"\u001b[39m\u001b[39myou can use builtins\u001b[39m\u001b[39m'\u001b[39m\u001b[39m open.\u001b[39m\u001b[39m\"\u001b[39m\n\u001b[1;32m    284\u001b[0m     )\n\u001b[0;32m--> 286\u001b[0m \u001b[39mreturn\u001b[39;00m io_open(file, \u001b[39m*\u001b[39;49margs, \u001b[39m*\u001b[39;49m\u001b[39m*\u001b[39;49mkwargs)\n",
      "\u001b[0;31mTypeError\u001b[0m: expected str, bytes or os.PathLike object, not BytesIO"
     ]
    }
   ],
   "source": [
    "# resized_image.save('compressed_image.jpeg', optimize=True, quality=50)\n",
    "\n",
    "with open(buffer, 'w+') as file:\n",
    "    file.flush()\n",
    "    # resized_image.save(file, optimize=True, quality=50)"
   ]
  },
  {
   "cell_type": "code",
   "execution_count": 5,
   "id": "38078430",
   "metadata": {},
   "outputs": [
    {
     "name": "stdout",
     "output_type": "stream",
     "text": [
      "Original Size:  188024\n",
      "Compressed Size:  34042\n"
     ]
    }
   ],
   "source": [
    "original_size = os.path.getsize('image.jpeg')\n",
    "compressed_size = os.path.getsize('compressed_image.jpeg')\n",
    "\n",
    "print(\"Original Size: \", original_size)\n",
    "print(\"Compressed Size: \", compressed_size)"
   ]
  },
  {
   "cell_type": "code",
   "execution_count": 6,
   "id": "63095342",
   "metadata": {},
   "outputs": [
    {
     "data": {
      "text/plain": [
       "PIL.Image.Image"
      ]
     },
     "execution_count": 6,
     "metadata": {},
     "output_type": "execute_result"
    }
   ],
   "source": [
    "type(resized_image)"
   ]
  },
  {
   "cell_type": "code",
   "execution_count": null,
   "id": "85322a49",
   "metadata": {},
   "outputs": [],
   "source": []
  },
  {
   "cell_type": "code",
   "execution_count": 7,
   "id": "aa0e282a",
   "metadata": {},
   "outputs": [],
   "source": [
    "import requests as rq\n",
    "import json"
   ]
  },
  {
   "cell_type": "code",
   "execution_count": 26,
   "id": "961b1e71",
   "metadata": {},
   "outputs": [],
   "source": [
    "url = \"https://api.godaddy.com/v1/domains?includes=contacts\"\n",
    "\n",
    "headers = {\n",
    "    \"Authorization\": \"sso-key fZBDRTovpQJs_439M5WQFjYdSUjEfQCZSVY:Ut5gLcXRe4pewpS92JEuWR\"\n",
    "}\n",
    "\n",
    "response = rq.get(url, headers=headers)"
   ]
  },
  {
   "cell_type": "code",
   "execution_count": 27,
   "id": "b9238d8a",
   "metadata": {},
   "outputs": [
    {
     "name": "stdout",
     "output_type": "stream",
     "text": [
      "[\n",
      "    {\n",
      "        \"contactAdmin\": {\n",
      "            \"addressMailing\": {\n",
      "                \"address1\": \"Calle 66a No. 80-17\",\n",
      "                \"address2\": \"Apto 503\",\n",
      "                \"city\": \"Bogota\",\n",
      "                \"country\": \"CO\",\n",
      "                \"postalCode\": \"110938\",\n",
      "                \"state\": \"bogota\"\n",
      "            },\n",
      "            \"email\": \"eduardovalenzuelaparga@gmail.com\",\n",
      "            \"fax\": \"\",\n",
      "            \"nameFirst\": \"Eduardo\",\n",
      "            \"nameLast\": \"Valenzuela Parga\",\n",
      "            \"organization\": \"\",\n",
      "            \"phone\": \"+57.3108211866\"\n",
      "        },\n",
      "        \"contactBilling\": {\n",
      "            \"addressMailing\": {\n",
      "                \"address1\": \"Calle 66a No. 80-17\",\n",
      "                \"address2\": \"Apto 503\",\n",
      "                \"city\": \"Bogota\",\n",
      "                \"country\": \"CO\",\n",
      "                \"postalCode\": \"110938\",\n",
      "                \"state\": \"bogota\"\n",
      "            },\n",
      "            \"email\": \"eduardovalenzuelaparga@gmail.com\",\n",
      "            \"fax\": \"\",\n",
      "            \"nameFirst\": \"Eduardo\",\n",
      "            \"nameLast\": \"Valenzuela Parga\",\n",
      "            \"organization\": \"\",\n",
      "            \"phone\": \"+57.3108211866\"\n",
      "        },\n",
      "        \"contactRegistrant\": {\n",
      "            \"addressMailing\": {\n",
      "                \"address1\": \"Calle 66a No. 80-17\",\n",
      "                \"address2\": \"Apto 503\",\n",
      "                \"city\": \"Bogota\",\n",
      "                \"country\": \"CO\",\n",
      "                \"postalCode\": \"110938\",\n",
      "                \"state\": \"bogota\"\n",
      "            },\n",
      "            \"email\": \"eduardovalenzuelaparga@gmail.com\",\n",
      "            \"fax\": \"\",\n",
      "            \"nameFirst\": \"Eduardo\",\n",
      "            \"nameLast\": \"Valenzuela Parga\",\n",
      "            \"organization\": \"\",\n",
      "            \"phone\": \"+57.3108211866\"\n",
      "        },\n",
      "        \"contactTech\": {\n",
      "            \"addressMailing\": {\n",
      "                \"address1\": \"Calle 66a No. 80-17\",\n",
      "                \"address2\": \"Apto 503\",\n",
      "                \"city\": \"Bogota\",\n",
      "                \"country\": \"CO\",\n",
      "                \"postalCode\": \"110938\",\n",
      "                \"state\": \"bogota\"\n",
      "            },\n",
      "            \"email\": \"eduardovalenzuelaparga@gmail.com\",\n",
      "            \"fax\": \"\",\n",
      "            \"nameFirst\": \"Eduardo\",\n",
      "            \"nameLast\": \"Valenzuela Parga\",\n",
      "            \"organization\": \"\",\n",
      "            \"phone\": \"+57.3108211866\"\n",
      "        },\n",
      "        \"createdAt\": \"2023-02-01T16:43:49.000Z\",\n",
      "        \"domain\": \"ecadem.cloud\",\n",
      "        \"domainId\": 388282116,\n",
      "        \"expirationProtected\": false,\n",
      "        \"expires\": \"2024-02-01T16:43:49.000Z\",\n",
      "        \"exposeWhois\": false,\n",
      "        \"holdRegistrar\": false,\n",
      "        \"locked\": true,\n",
      "        \"nameServers\": null,\n",
      "        \"privacy\": true,\n",
      "        \"registrarCreatedAt\": \"2023-02-01T09:43:36.837Z\",\n",
      "        \"renewAuto\": false,\n",
      "        \"renewDeadline\": \"2024-03-17T09:43:42.000Z\",\n",
      "        \"renewable\": true,\n",
      "        \"status\": \"ACTIVE\",\n",
      "        \"transferProtected\": false\n",
      "    },\n",
      "    {\n",
      "        \"contactAdmin\": {\n",
      "            \"addressMailing\": {\n",
      "                \"address1\": \"Calle 66a No. 80-17\",\n",
      "                \"address2\": \"Apto 503\",\n",
      "                \"city\": \"Bogota\",\n",
      "                \"country\": \"CO\",\n",
      "                \"postalCode\": \"110938\",\n",
      "                \"state\": \"bogota\"\n",
      "            },\n",
      "            \"email\": \"eduardovalenzuelaparga@gmail.com\",\n",
      "            \"fax\": \"\",\n",
      "            \"nameFirst\": \"eduardo\",\n",
      "            \"nameLast\": \"Valenzuela Parga\",\n",
      "            \"organization\": \"\",\n",
      "            \"phone\": \"+57.3108211866\"\n",
      "        },\n",
      "        \"contactBilling\": {\n",
      "            \"addressMailing\": {\n",
      "                \"address1\": \"Calle 66a No. 80-17\",\n",
      "                \"address2\": \"Apto 503\",\n",
      "                \"city\": \"Bogota\",\n",
      "                \"country\": \"CO\",\n",
      "                \"postalCode\": \"110938\",\n",
      "                \"state\": \"bogota\"\n",
      "            },\n",
      "            \"email\": \"eduardovalenzuelaparga@gmail.com\",\n",
      "            \"fax\": \"\",\n",
      "            \"nameFirst\": \"eduardo\",\n",
      "            \"nameLast\": \"Valenzuela Parga\",\n",
      "            \"organization\": \"\",\n",
      "            \"phone\": \"+57.3108211866\"\n",
      "        },\n",
      "        \"contactRegistrant\": {\n",
      "            \"addressMailing\": {\n",
      "                \"address1\": \"Calle 66a No. 80-17\",\n",
      "                \"address2\": \"Apto 503\",\n",
      "                \"city\": \"Bogota\",\n",
      "                \"country\": \"CO\",\n",
      "                \"postalCode\": \"110938\",\n",
      "                \"state\": \"bogota\"\n",
      "            },\n",
      "            \"email\": \"eduardovalenzuelaparga@gmail.com\",\n",
      "            \"fax\": \"\",\n",
      "            \"nameFirst\": \"eduardo\",\n",
      "            \"nameLast\": \"Valenzuela Parga\",\n",
      "            \"organization\": \"\",\n",
      "            \"phone\": \"+57.3108211866\"\n",
      "        },\n",
      "        \"contactTech\": {\n",
      "            \"addressMailing\": {\n",
      "                \"address1\": \"Calle 66a No. 80-17\",\n",
      "                \"address2\": \"Apto 503\",\n",
      "                \"city\": \"Bogota\",\n",
      "                \"country\": \"CO\",\n",
      "                \"postalCode\": \"110938\",\n",
      "                \"state\": \"bogota\"\n",
      "            },\n",
      "            \"email\": \"eduardovalenzuelaparga@gmail.com\",\n",
      "            \"fax\": \"\",\n",
      "            \"nameFirst\": \"eduardo\",\n",
      "            \"nameLast\": \"Valenzuela Parga\",\n",
      "            \"organization\": \"\",\n",
      "            \"phone\": \"+57.3108211866\"\n",
      "        },\n",
      "        \"createdAt\": \"2022-06-11T20:34:16.000Z\",\n",
      "        \"domain\": \"ecadem.co\",\n",
      "        \"domainId\": 372325091,\n",
      "        \"expirationProtected\": false,\n",
      "        \"expires\": \"2024-06-11T20:34:16.000Z\",\n",
      "        \"exposeWhois\": false,\n",
      "        \"holdRegistrar\": false,\n",
      "        \"locked\": true,\n",
      "        \"nameServers\": null,\n",
      "        \"privacy\": true,\n",
      "        \"registrarCreatedAt\": \"2022-06-11T13:34:00.517Z\",\n",
      "        \"renewAuto\": true,\n",
      "        \"renewDeadline\": \"2024-07-26T20:34:16.000Z\",\n",
      "        \"renewable\": true,\n",
      "        \"status\": \"ACTIVE\",\n",
      "        \"transferProtected\": false\n",
      "    }\n",
      "]\n"
     ]
    }
   ],
   "source": [
    "print(json.dumps(json.loads(response.text), indent=4))\n",
    "\n"
   ]
  },
  {
   "cell_type": "code",
   "execution_count": 31,
   "id": "8323de91",
   "metadata": {},
   "outputs": [
    {
     "name": "stdout",
     "output_type": "stream",
     "text": [
      "[\n",
      "    {\n",
      "        \"data\": \"75.2.60.5\",\n",
      "        \"name\": \"@\",\n",
      "        \"ttl\": 600,\n",
      "        \"type\": \"A\"\n",
      "    },\n",
      "    {\n",
      "        \"data\": \"66.241.124.105\",\n",
      "        \"name\": \"genpass\",\n",
      "        \"ttl\": 1800,\n",
      "        \"type\": \"A\"\n",
      "    },\n",
      "    {\n",
      "        \"data\": \"ns17.domaincontrol.com\",\n",
      "        \"name\": \"@\",\n",
      "        \"ttl\": 3600,\n",
      "        \"type\": \"NS\"\n",
      "    },\n",
      "    {\n",
      "        \"data\": \"ns18.domaincontrol.com\",\n",
      "        \"name\": \"@\",\n",
      "        \"ttl\": 3600,\n",
      "        \"type\": \"NS\"\n",
      "    },\n",
      "    {\n",
      "        \"data\": \"autodiscover.outlook.com\",\n",
      "        \"name\": \"autodiscover\",\n",
      "        \"ttl\": 3600,\n",
      "        \"type\": \"CNAME\"\n",
      "    },\n",
      "    {\n",
      "        \"data\": \"email.secureserver.net\",\n",
      "        \"name\": \"email\",\n",
      "        \"ttl\": 3600,\n",
      "        \"type\": \"CNAME\"\n",
      "    },\n",
      "    {\n",
      "        \"data\": \"webdir.online.lync.com\",\n",
      "        \"name\": \"lyncdiscover\",\n",
      "        \"ttl\": 3600,\n",
      "        \"type\": \"CNAME\"\n",
      "    },\n",
      "    {\n",
      "        \"data\": \"clientconfig.microsoftonline-p.net\",\n",
      "        \"name\": \"msoid\",\n",
      "        \"ttl\": 3600,\n",
      "        \"type\": \"CNAME\"\n",
      "    },\n",
      "    {\n",
      "        \"data\": \"sipdir.online.lync.com\",\n",
      "        \"name\": \"sip\",\n",
      "        \"ttl\": 3600,\n",
      "        \"type\": \"CNAME\"\n",
      "    },\n",
      "    {\n",
      "        \"data\": \"@\",\n",
      "        \"name\": \"www\",\n",
      "        \"ttl\": 3600,\n",
      "        \"type\": \"CNAME\"\n",
      "    },\n",
      "    {\n",
      "        \"data\": \"_domainconnect.gd.domaincontrol.com\",\n",
      "        \"name\": \"_domainconnect\",\n",
      "        \"ttl\": 3600,\n",
      "        \"type\": \"CNAME\"\n",
      "    },\n",
      "    {\n",
      "        \"data\": \"ecadem-co.mail.protection.outlook.com\",\n",
      "        \"name\": \"@\",\n",
      "        \"priority\": 0,\n",
      "        \"ttl\": 3600,\n",
      "        \"type\": \"MX\"\n",
      "    },\n",
      "    {\n",
      "        \"data\": \"NETORGFT13900722.onmicrosoft.com\",\n",
      "        \"name\": \"@\",\n",
      "        \"ttl\": 3600,\n",
      "        \"type\": \"TXT\"\n",
      "    },\n",
      "    {\n",
      "        \"data\": \"v=spf1 include:secureserver.net -all\",\n",
      "        \"name\": \"@\",\n",
      "        \"ttl\": 3600,\n",
      "        \"type\": \"TXT\"\n",
      "    },\n",
      "    {\n",
      "        \"data\": \"2a09:8280:1::6:c75b\",\n",
      "        \"name\": \"genpass\",\n",
      "        \"ttl\": 1800,\n",
      "        \"type\": \"AAAA\"\n",
      "    },\n",
      "    {\n",
      "        \"data\": \"sipdir.online.lync.com\",\n",
      "        \"name\": \"@\",\n",
      "        \"port\": 443,\n",
      "        \"priority\": 100,\n",
      "        \"protocol\": \"_tls\",\n",
      "        \"service\": \"_sip\",\n",
      "        \"ttl\": 3600,\n",
      "        \"type\": \"SRV\",\n",
      "        \"weight\": 1\n",
      "    },\n",
      "    {\n",
      "        \"data\": \"sipfed.online.lync.com\",\n",
      "        \"name\": \"@\",\n",
      "        \"port\": 5061,\n",
      "        \"priority\": 100,\n",
      "        \"protocol\": \"_tcp\",\n",
      "        \"service\": \"_sipfederationtls\",\n",
      "        \"ttl\": 3600,\n",
      "        \"type\": \"SRV\",\n",
      "        \"weight\": 1\n",
      "    }\n",
      "]\n"
     ]
    }
   ],
   "source": [
    "url = \"https://api.godaddy.com/v1/domains/ecadem.co/records\"\n",
    "\n",
    "headers = {\n",
    "    \"Authorization\": \"sso-key fZBDRTovpQJs_439M5WQFjYdSUjEfQCZSVY:Ut5gLcXRe4pewpS92JEuWR\"\n",
    "}\n",
    "\n",
    "response = rq.get(url, headers=headers)\n",
    "print(json.dumps(json.loads(response.text), indent=4))"
   ]
  },
  {
   "cell_type": "code",
   "execution_count": 41,
   "id": "ef3ec975",
   "metadata": {},
   "outputs": [],
   "source": [
    "url = \"https://api.godaddy.com/v1/domains/ecadem.co/records\"\n",
    "\n",
    "headers = {\n",
    "    \"Authorization\": \"sso-key fZBDRTovpQJs_439M5WQFjYdSUjEfQCZSVY:Ut5gLcXRe4pewpS92JEuWR\",\n",
    "    \"Content-Type\": \"application/json\"\n",
    "}\n",
    "\n",
    "payload = json.dumps([\n",
    "  {\n",
    "    \"data\": \"17.17.17.17\",\n",
    "    \"name\": \"subdo\",\n",
    "    \"port\": 65535,\n",
    "    \"priority\": 10,\n",
    "    \"ttl\": 600,\n",
    "    \"type\": \"A\"\n",
    "  }\n",
    "])\n",
    "\n",
    "response = rq.patch(url, data=payload, headers=headers)\n"
   ]
  },
  {
   "cell_type": "code",
   "execution_count": 38,
   "id": "604eeaf6",
   "metadata": {},
   "outputs": [],
   "source": [
    "print(json.dumps(json.loads(response.text), indent=4))"
   ]
  },
  {
   "cell_type": "code",
   "execution_count": 42,
   "id": "3be2090a",
   "metadata": {},
   "outputs": [
    {
     "data": {
      "text/plain": [
       "''"
      ]
     },
     "execution_count": 42,
     "metadata": {},
     "output_type": "execute_result"
    }
   ],
   "source": [
    "response.text"
   ]
  }
 ],
 "metadata": {
  "interpreter": {
   "hash": "4cd7ab41f5fca4b9b44701077e38c5ffd31fe66a6cab21e0214b68d958d0e462"
  },
  "kernelspec": {
   "display_name": "Python 3.11.5 64-bit",
   "name": "python3"
  },
  "language_info": {
   "codemirror_mode": {
    "name": "ipython",
    "version": 3
   },
   "file_extension": ".py",
   "mimetype": "text/x-python",
   "name": "python",
   "nbconvert_exporter": "python",
   "pygments_lexer": "ipython3",
   "version": "3.10.9"
  }
 },
 "nbformat": 4,
 "nbformat_minor": 5
}
