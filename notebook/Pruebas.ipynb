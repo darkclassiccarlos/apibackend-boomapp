{
 "cells": [
  {
   "cell_type": "code",
   "execution_count": 2,
   "source": [
    "# import bcrypt\n",
    "\n",
    "# passwd = b's$cret12'\n",
    "\n",
    "# salt = bcrypt.gensalt()\n",
    "# hashed = bcrypt.hashpw(passwd, salt)\n",
    "\n",
    "# print(salt)\n",
    "# print(hashed)"
   ],
   "outputs": [
    {
     "output_type": "stream",
     "name": "stdout",
     "text": [
      "b'$2b$12$zrfEtEneOqbUWnxREQ8MRO'\n",
      "b'$2b$12$zrfEtEneOqbUWnxREQ8MROnXI3DgJ.gvEvc6HRRU641D36g34M/PS'\n"
     ]
    }
   ],
   "metadata": {}
  },
  {
   "cell_type": "code",
   "execution_count": null,
   "source": [
    "import os\n",
    "from dotenv import load_dotenv\n",
    "from pathlib import Path\n",
    "\n",
    "from MySQLdb import _mysql\n",
    "\n",
    "dotenv_path = Path('./config/dev.env')\n",
    "load_dotenv(dotenv_path=dotenv_path)\n",
    "\n",
    "HOST = os.getenv(\"HOST\")\n",
    "DATABASE = os.getenv(\"DATABASE\")\n",
    "USERNAME = os.getenv(\"USERNAME\")\n",
    "PASSWORD = os.getenv(\"PASSWORD\")\n",
    "SSL_CERT = os.getenv(\"SSL_CERT\")"
   ],
   "outputs": [],
   "metadata": {}
  },
  {
   "cell_type": "code",
   "execution_count": null,
   "source": [
    "def get_connection():\n",
    "  return _mysql.connect(\n",
    "          host= HOST,\n",
    "          user= USERNAME,\n",
    "          password= PASSWORD,\n",
    "          database= DATABASE,\n",
    "          ssl      = {\n",
    "            \"ca\": SSL_CERT\n",
    "          }\n",
    "        )\n",
    "connection = get_connection()"
   ],
   "outputs": [],
   "metadata": {}
  },
  {
   "cell_type": "code",
   "execution_count": null,
   "source": [],
   "outputs": [],
   "metadata": {}
  }
 ],
 "metadata": {
  "kernelspec": {
   "name": "python3",
   "display_name": "Python 3.11.5 64-bit"
  },
  "language_info": {
   "codemirror_mode": {
    "name": "ipython",
    "version": 3
   },
   "file_extension": ".py",
   "mimetype": "text/x-python",
   "name": "python",
   "nbconvert_exporter": "python",
   "pygments_lexer": "ipython3",
   "version": "3.11.5"
  },
  "interpreter": {
   "hash": "4cd7ab41f5fca4b9b44701077e38c5ffd31fe66a6cab21e0214b68d958d0e462"
  }
 },
 "nbformat": 4,
 "nbformat_minor": 5
}