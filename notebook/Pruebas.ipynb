{
 "cells": [
  {
   "cell_type": "code",
   "execution_count": 2,
   "metadata": {},
   "outputs": [
    {
     "name": "stdout",
     "output_type": "stream",
     "text": [
      "b'$2b$12$zrfEtEneOqbUWnxREQ8MRO'\n",
      "b'$2b$12$zrfEtEneOqbUWnxREQ8MROnXI3DgJ.gvEvc6HRRU641D36g34M/PS'\n"
     ]
    }
   ],
   "source": [
    "# import bcrypt\n",
    "\n",
    "# passwd = b's$cret12'\n",
    "\n",
    "# salt = bcrypt.gensalt()\n",
    "# hashed = bcrypt.hashpw(passwd, salt)\n",
    "\n",
    "# print(salt)\n",
    "# print(hashed)"
   ]
  },
  {
   "cell_type": "code",
   "execution_count": null,
   "metadata": {},
   "outputs": [],
   "source": [
    "import os\n",
    "from dotenv import load_dotenv\n",
    "from pathlib import Path\n",
    "\n",
    "from MySQLdb import _mysql\n",
    "\n",
    "dotenv_path = Path('./config/dev.env')\n",
    "load_dotenv(dotenv_path=dotenv_path)\n",
    "\n",
    "HOST = os.getenv(\"HOST\")\n",
    "DATABASE = os.getenv(\"DATABASE\")\n",
    "USERNAME = os.getenv(\"USERNAME\")\n",
    "PASSWORD = os.getenv(\"PASSWORD\")\n",
    "SSL_CERT = os.getenv(\"SSL_CERT\")"
   ]
  },
  {
   "cell_type": "code",
   "execution_count": null,
   "metadata": {},
   "outputs": [],
   "source": [
    "def get_connection():\n",
    "  return _mysql.connect(\n",
    "          host= HOST,\n",
    "          user= USERNAME,\n",
    "          password= PASSWORD,\n",
    "          database= DATABASE,\n",
    "          ssl      = {\n",
    "            \"ca\": SSL_CERT\n",
    "          }\n",
    "        )\n",
    "connection = get_connection()"
   ]
  },
  {
   "cell_type": "code",
   "execution_count": 1,
   "metadata": {},
   "outputs": [],
   "source": [
    "import redis\n",
    "\n",
    "r = redis.Redis(\n",
    "  host='redis-13872.c8.us-east-1-4.ec2.cloud.redislabs.com',\n",
    "  port=13872,\n",
    "  password='VkjTAFibOFlRxmw4XJEfISC6qws5GYPx')"
   ]
  },
  {
   "cell_type": "code",
   "execution_count": 14,
   "id": "912e0432",
   "metadata": {},
   "outputs": [
    {
     "data": {
      "text/plain": [
       "True"
      ]
     },
     "execution_count": 14,
     "metadata": {},
     "output_type": "execute_result"
    }
   ],
   "source": [
    "r.set('token_user1', 'token_aqui' , ex=5)"
   ]
  },
  {
   "cell_type": "code",
   "execution_count": 16,
   "id": "72b08867",
   "metadata": {},
   "outputs": [
    {
     "name": "stdout",
     "output_type": "stream",
     "text": [
      "None\n"
     ]
    }
   ],
   "source": [
    "print(r.get('token_user1'))"
   ]
  },
  {
   "cell_type": "code",
   "execution_count": null,
   "id": "47571c56",
   "metadata": {},
   "outputs": [],
   "source": []
  },
  {
   "cell_type": "code",
   "execution_count": null,
   "id": "fb687583",
   "metadata": {},
   "outputs": [],
   "source": []
  },
  {
   "cell_type": "code",
   "execution_count": null,
   "id": "deb98dcd",
   "metadata": {},
   "outputs": [],
   "source": []
  }
 ],
 "metadata": {
  "interpreter": {
   "hash": "4cd7ab41f5fca4b9b44701077e38c5ffd31fe66a6cab21e0214b68d958d0e462"
  },
  "kernelspec": {
   "display_name": "Python 3.11.5 64-bit",
   "name": "python3"
  },
  "language_info": {
   "codemirror_mode": {
    "name": "ipython",
    "version": 3
   },
   "file_extension": ".py",
   "mimetype": "text/x-python",
   "name": "python",
   "nbconvert_exporter": "python",
   "pygments_lexer": "ipython3",
   "version": "3.10.9"
  }
 },
 "nbformat": 4,
 "nbformat_minor": 5
}
